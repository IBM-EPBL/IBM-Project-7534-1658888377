{
  "nbformat": 4,
  "nbformat_minor": 0,
  "metadata": {
    "colab": {
      "provenance": [],
      "authorship_tag": "ABX9TyMBDWaNeiM5jPr5HxKarx7h",
      "include_colab_link": true
    },
    "kernelspec": {
      "name": "python3",
      "display_name": "Python 3"
    },
    "language_info": {
      "name": "python"
    }
  },
  "cells": [
    {
      "cell_type": "markdown",
      "metadata": {
        "id": "view-in-github",
        "colab_type": "text"
      },
      "source": [
        "<a href=\"https://colab.research.google.com/github/IBM-EPBL/IBM-Project-33353-1660219050/blob/main/Application%20Building/importing_required_library.ipynb\" target=\"_parent\"><img src=\"https://colab.research.google.com/assets/colab-badge.svg\" alt=\"Open In Colab\"/></a>"
      ]
    },
    {
      "cell_type": "markdown",
      "source": [
        "# Team ID : PNT2022TMID33797"
      ],
      "metadata": {
        "id": "9jEh_G0hF5Fv"
      }
    },
    {
      "cell_type": "markdown",
      "source": [
        "# Importing the required library"
      ],
      "metadata": {
        "id": "rBvZC4z8GSny"
      }
    },
    {
      "cell_type": "code",
      "execution_count": 1,
      "metadata": {
        "id": "GkGpAs3yFHk_"
      },
      "outputs": [],
      "source": [
        "import tensorflow"
      ]
    },
    {
      "cell_type": "code",
      "source": [
        "import numpy#for numerical analysis\n",
        "import tensorflow#open source ml tool by google\n",
        "from tensorflow.keras.datasets import mnist #mnist dataset\n",
        "from tensorflow.keras.models import Sequential# stack for layers\n",
        "from tensorflow.keras import layers#input,middle and output layers forcnn structure\n",
        "from tensorflow.keras.layers import Dense,Flatten#dense and flatten layers\n",
        "from tensorflow.keras.layers import Conv2D#convolutional layers\n",
        "from tensorflow import keras#library for building neural networks built on tensorflow\n",
        "from tensorflow.keras.optimizers import Adam#optimizers\n",
        "from keras.utils import np_utils"
      ],
      "metadata": {
        "id": "RReq1WjoF2_3"
      },
      "execution_count": 2,
      "outputs": []
    },
    {
      "cell_type": "code",
      "source": [],
      "metadata": {
        "id": "Ie_IAJi0GPjp"
      },
      "execution_count": null,
      "outputs": []
    }
  ]
}